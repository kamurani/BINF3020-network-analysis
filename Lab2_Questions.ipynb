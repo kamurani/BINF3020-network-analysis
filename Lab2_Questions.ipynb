{
 "cells": [
  {
   "cell_type": "markdown",
   "metadata": {},
   "source": [
    "# BINF3020 Lab / Homework 2 Questions"
   ]
  },
  {
   "cell_type": "markdown",
   "metadata": {},
   "source": [
    "*Last revision: Thu  4 Nov 14:23:17 AEDT 2021.*"
   ]
  },
  {
   "cell_type": "code",
   "execution_count": 1,
   "metadata": {},
   "outputs": [
    {
     "name": "stderr",
     "output_type": "stream",
     "text": [
      "/tmp/ipykernel_130522/3510566465.py:1: DeprecationWarning: Importing display from IPython.core.display is deprecated since IPython 7.14, please import from IPython display\n",
      "  from IPython.core.display import display, HTML\n"
     ]
    },
    {
     "data": {
      "text/html": [
       "<style>.container {width:90% !important;}</style>"
      ],
      "text/plain": [
       "<IPython.core.display.HTML object>"
      ]
     },
     "metadata": {},
     "output_type": "display_data"
    }
   ],
   "source": [
    "from IPython.core.display import display, HTML\n",
    "display(HTML(\"<style>.container {width:90% !important;}</style>\"))"
   ]
  },
  {
   "cell_type": "markdown",
   "metadata": {},
   "source": [
    "## Introduction"
   ]
  },
  {
   "cell_type": "markdown",
   "metadata": {},
   "source": [
    "In this tutorial/lab activity, you will answer some questions on topics from lectures and learn how to apply some of the techniques we covered on network analysis. We will be working with Python, mainly using the [NetworkX](https://networkx.org) package which implements many of the methods for network or graph analysis we covered (there are other alternatives with similar functionality, such as iGraph, Pajek, Gephi, Cytoscape, etc). You need to work through the notebook and complete the answers to questions in the notebook cells.\n",
    "\n",
    "#### Please ensure that for each of question of the notebook your answer is completed in a separate cell,  and that your answers are in ```markdown``` format, except where you are specifically asked for ```code``` !!!\n",
    "\n",
    "Once you have completed answering the questions in this notebook, make sure you save it with the filename \"Lab2_Solutions.ipynb\" and submit it via Moodle. \n",
    "\n",
    "There are a total of *14 marks* available in this notebook for the answers to 7 questions. Answers are worth different marks, shown for each question. Each notebook mark is worth *0.5 course mark*, i.e., notebook marks will be scaled to a **course mark out of 7** to contribute to the course total.\n",
    "\n",
    "_**Deadline: 12:55pm, Thursday November 11, 2021.**_"
   ]
  },
  {
   "cell_type": "markdown",
   "metadata": {},
   "source": [
    "Your Python environment should have already been set up to enable to run this notebook if you successfully completed Lab / Homework 1. However, you will also need the NetworkX package to be installed in your environment, which you can do, for example, by following these [instructions](https://networkx.org/documentation/stable/install.html). If you are not familiar with NetworkX may be of interest to have a look at the [tutorial](https://networkx.org/documentation/stable/tutorial.html), although most of it is not necessary for this lab."
   ]
  },
  {
   "cell_type": "markdown",
   "metadata": {},
   "source": [
    "You will also need to ensure that you have the data files for the lab. The easiest way to ensure that they are readable by this notebook is to place them in the same directory as the notebook, and run ```jupyter``` from the command-line in that directory. The required files are: ```graph1.edgelist```, ```graph2.edgelist```, ```graph3.edgelist``` and ```graph4.edgelist```, which you should have downloaded as ```datasets.zip``` from the location where you downloaded this notebook."
   ]
  },
  {
   "cell_type": "markdown",
   "metadata": {},
   "source": [
    "## Warm-up questions\n",
    "\n",
    "Refer to the lecture slides, particularly \"Biological Network Analysis\" (1) and (2), and add your answers in the respective cells after each question."
   ]
  },
  {
   "cell_type": "markdown",
   "metadata": {},
   "source": [
    "**Q1. [1 mark] Which of the following can be represented by network graphs in systems biology ?**\n",
    "\n",
    "1. pathways of enzyme-catalysed reactions\n",
    "2. pathways of protein-protein interactions\n",
    "3. pathways controlling gene expression\n",
    "4. all of the above\n",
    "5. none of the above\n"
   ]
  },
  {
   "cell_type": "markdown",
   "metadata": {},
   "source": [
    "**Q1. answer.**   4"
   ]
  },
  {
   "cell_type": "markdown",
   "metadata": {},
   "source": [
    "**Q2. [1 mark] For a metabolic network, explain the difference between a substrate graph and a reaction graph ? (refer to \"Biological Network Analysis (1)\" lecture slides)**"
   ]
  },
  {
   "cell_type": "markdown",
   "metadata": {},
   "source": [
    "**Q2. answer.**   _Your answer goes here._ "
   ]
  },
  {
   "cell_type": "markdown",
   "metadata": {},
   "source": [
    "**Q3. [1 mark] You are told that a certain protein in a protein interaction network is in a \"giant component\". Which of the following statements is it correct to infer from this ?**\n",
    "\n",
    "1. The degree of the protein must be high.\n",
    "2. The average degree of proteins in the giant component must be high.\n",
    "3. There is a short average path length between each pair of proteins in the giant component.\n",
    "4. There is an edge between each pair of proteins in the giant componenent.\n",
    "5. Each pair of proteins in the giant component is connected."
   ]
  },
  {
   "cell_type": "markdown",
   "metadata": {},
   "source": [
    "**Q3. answer.**   _Your answer goes here._ "
   ]
  },
  {
   "cell_type": "markdown",
   "metadata": {},
   "source": [
    "## Network analysis"
   ]
  },
  {
   "cell_type": "markdown",
   "metadata": {},
   "source": [
    "As a first step, whenever we get some data given to us we start by doing some basic exploration. This will give us an idea of what is in the data and what types of analysis we may be able to do. First we need to initialise our environment by importing the required packages, mostly parts of the standard \"data science\" stack, but also including the graph analysis package NetworkX. If you have forgotten to install any of these packages, refer back to the top of the notebook."
   ]
  },
  {
   "cell_type": "code",
   "execution_count": 1,
   "metadata": {},
   "outputs": [],
   "source": [
    "import numpy as np\n",
    "import scipy.sparse as sp\n",
    "import networkx as nx\n",
    "from sklearn.metrics import roc_auc_score\n",
    "from sklearn.metrics import average_precision_score\n",
    "import matplotlib.pyplot as plt\n",
    "import seaborn as sns; sns.set()\n",
    "import collections"
   ]
  },
  {
   "cell_type": "markdown",
   "metadata": {},
   "source": [
    "The first graph dataset we will use contains interactions for the yeast _S. cerevisiae_ and is in \"edge list\" format, that is, each line of the file contains a pair of yeast genes that denote an edge in the interaction graph."
   ]
  },
  {
   "cell_type": "code",
   "execution_count": 5,
   "metadata": {
    "scrolled": true
   },
   "outputs": [
    {
     "name": "stdout",
     "output_type": "stream",
     "text": [
      "Graph G1 has 6526 nodes\n",
      "Graph G1 has 532180 edges\n",
      "Total possible edges 21291075.0\n",
      "ratio: 2.499544997140821%\n"
     ]
    }
   ],
   "source": [
    "# An edge list is a simple data format for graph data\n",
    "# https://networkx.github.io/documentation/stable/reference/readwrite/edgelist.html\n",
    "\n",
    "G1 = nx.read_edgelist('graph1.edgelist')\n",
    "print(f'Graph G1 has {G1.number_of_nodes()} nodes')\n",
    "\n",
    "n_edges = G1.number_of_edges()\n",
    "print(f'Graph G1 has {G1.number_of_edges()} edges')\n",
    "num_v = G1.number_of_nodes()\n",
    "\n",
    "# Total number of possible node pairs, i.e., undirected edges\n",
    "num_complete = (num_v * (num_v - 1)) / 2           \n",
    "print(f'Total possible edges {num_complete}')\n",
    "\n",
    "print(f\"ratio: {n_edges / num_complete * 100}%\")"
   ]
  },
  {
   "cell_type": "markdown",
   "metadata": {},
   "source": [
    "**Q4. [2 marks] This graph is \"sparse\". True or false ? Give a brief explanation justifying your answer.**"
   ]
  },
  {
   "cell_type": "markdown",
   "metadata": {},
   "source": [
    "**Q4. answer.**  True; ratio is very low"
   ]
  },
  {
   "cell_type": "markdown",
   "metadata": {},
   "source": [
    "### Next we apply a number of global measures of graph properties to two different networks to hypothesize how they were possibly generated."
   ]
  },
  {
   "cell_type": "markdown",
   "metadata": {},
   "source": [
    "Read the first network in from file, then find its average shortest path length, and plot the degree distribution. _Note: finding the average shortest path length can take some time._"
   ]
  },
  {
   "cell_type": "code",
   "execution_count": 6,
   "metadata": {
    "scrolled": false
   },
   "outputs": [
    {
     "name": "stdout",
     "output_type": "stream",
     "text": [
      "Graph G2 has 1000 nodes.\n",
      "Graph G2 has 9974 edges.\n",
      "Graph G2 has average shortest path length 2.640932932932933.\n",
      "Max degree is 32.\n"
     ]
    },
    {
     "data": {
      "image/png": "[encoded data removed]",
      "text/plain": [
       "<Figure size 640x480 with 1 Axes>"
      ]
     },
     "metadata": {},
     "output_type": "display_data"
    }
   ],
   "source": [
    "G2 = nx.read_edgelist('graph2.edgelist')\n",
    "\n",
    "print(f'Graph G2 has {G2.number_of_nodes()} nodes.')\n",
    "print(f'Graph G2 has {G2.number_of_edges()} edges.')\n",
    "# print(f'Max degree is {max(deg)}.')\n",
    "\n",
    "# Find the average shortest path length\n",
    "G2_MSPL = nx.algorithms.shortest_paths.generic.average_shortest_path_length(G2)\n",
    "print(f'Graph G2 has average shortest path length {G2_MSPL}.')\n",
    "\n",
    "# Plot the degree distribution\n",
    "degree_sequence = sorted([d for n, d in G2.degree()], reverse=True)\n",
    "degreeCount = collections.Counter(degree_sequence)\n",
    "deg, cnt = zip(*degreeCount.items())    \n",
    "fig, ax = plt.subplots()\n",
    "# plt.bar(deg, cnt, width=0.80, color=\"b\")  \n",
    "\n",
    "print(f'Max degree is {max(deg)}.')\n",
    "\n",
    "# Need to set up labelling and binning for the histogram\n",
    "plt.title(\"Degree Histogram for G2\")\n",
    "plt.ylabel(\"Count\")\n",
    "plt.xlabel(\"Degree\")\n",
    "# ax.set_xticks([d + 0.4 for d in deg])\n",
    "# ax.set_xticklabels(deg)\n",
    "\n",
    "bin_sz = 1\n",
    "binning = lambda degree: degree // bin_sz * bin_sz\n",
    "histo = collections.Counter(binning(degree) for degree in degree_sequence)\n",
    "\n",
    "plt.bar([x - 4 for x in histo.keys()], histo.values(), 1)\n",
    "plt.axis([-5, (max(histo.keys())+5), 0, (max(histo.values())+5)])\n",
    "\n",
    "plt.show()"
   ]
  },
  {
   "cell_type": "markdown",
   "metadata": {},
   "source": [
    "Repeat the same analysis for the second network."
   ]
  },
  {
   "cell_type": "code",
   "execution_count": 7,
   "metadata": {},
   "outputs": [
    {
     "name": "stdout",
     "output_type": "stream",
     "text": [
      "Graph G3 has 1000 nodes.\n",
      "Graph G3 has 9900 edges.\n",
      "Graph G3 has average shortest path length 2.560816816816817.\n",
      "Max degree is 163.\n"
     ]
    },
    {
     "data": {
      "image/png": "[encoded data removed]",
      "text/plain": [
       "<Figure size 640x480 with 1 Axes>"
      ]
     },
     "metadata": {},
     "output_type": "display_data"
    }
   ],
   "source": [
    "G3 = nx.read_edgelist('graph3.edgelist')\n",
    "\n",
    "print(f'Graph G3 has {G3.number_of_nodes()} nodes.')\n",
    "print(f'Graph G3 has {G3.number_of_edges()} edges.')\n",
    "# print(f'Max degree is {max(deg)}.')\n",
    "\n",
    "# Find the average shortest path length\n",
    "G3_MSPL = nx.algorithms.shortest_paths.generic.average_shortest_path_length(G3)\n",
    "print(f'Graph G3 has average shortest path length {G3_MSPL}.')\n",
    "\n",
    "# Plot the degree distribution\n",
    "degree_sequence = sorted([d for n, d in G3.degree()], reverse=True)\n",
    "\n",
    "degreeCount = collections.Counter(degree_sequence)\n",
    "deg, cnt = zip(*degreeCount.items())    \n",
    "fig, ax = plt.subplots()\n",
    "\n",
    "print(f'Max degree is {max(deg)}.')\n",
    "\n",
    "# Need to set up labelling and binning for the histogram\n",
    "plt.title(\"Degree Histogram for G3\")\n",
    "plt.ylabel(\"Count\")\n",
    "plt.xlabel(\"Degree\")\n",
    "\n",
    "bin_sz = 4\n",
    "binning = lambda degree: degree // bin_sz * bin_sz\n",
    "histo = collections.Counter(binning(degree) for degree in degree_sequence)\n",
    "\n",
    "plt.bar([x - 4 for x in histo.keys()], histo.values(), 4)\n",
    "plt.axis([-5, (max(histo.keys())+5), 0, (max(histo.values())+5)])\n",
    "\n",
    "plt.show()"
   ]
  },
  {
   "cell_type": "markdown",
   "metadata": {},
   "source": [
    "**Q5. [3 marks] What could account for the measured properties of these two networks ? Give a brief explanation, taking into account any similarities and differences you observed between the two networks. (If you want to implement code for additional analysis to complete your answer, please add it in a new cell immediately below this one.)**"
   ]
  },
  {
   "cell_type": "code",
   "execution_count": 8,
   "metadata": {},
   "outputs": [
    {
     "name": "stdout",
     "output_type": "stream",
     "text": [
      "Graph 2 log size is 6.907755278982137.\n",
      "Graph 2 has mean degree 19.948.\n",
      "Graph 3 log size is 6.907755278982137.\n",
      "Graph 3 has mean degree 19.8.\n"
     ]
    }
   ],
   "source": [
    "import math\n",
    "\n",
    "print(f'Graph 2 log size is {math.log(G2.number_of_nodes())}.')\n",
    "G2_degree_sequence = sorted([d for n, d in G2.degree()], reverse=True)\n",
    "G2_mean_degree = sum(G2_degree_sequence)/len(G2_degree_sequence)\n",
    "print(f'Graph 2 has mean degree {G2_mean_degree}.')\n",
    "\n",
    "print(f'Graph 3 log size is {math.log(G2.number_of_nodes())}.')\n",
    "G3_degree_sequence = sorted([d for n, d in G3.degree()], reverse=True)\n",
    "G3_mean_degree = sum(G3_degree_sequence)/len(G3_degree_sequence)\n",
    "print(f'Graph 3 has mean degree {G3_mean_degree}.')"
   ]
  },
  {
   "cell_type": "markdown",
   "metadata": {},
   "source": [
    "**Q5. answer.**  _Your answer goes here._ "
   ]
  },
  {
   "cell_type": "markdown",
   "metadata": {},
   "source": [
    "Next we will compute the average clustering coefficients for the yeast interaction network (Graph1) and the previous two networks (Graph2 and Graph3) you have just investigated. We also plot the degree distribution for the yeast interaction network, just for completeness. Computing the clustering coefficients may take a minute or two."
   ]
  },
  {
   "cell_type": "code",
   "execution_count": 9,
   "metadata": {},
   "outputs": [
    {
     "name": "stdout",
     "output_type": "stream",
     "text": [
      "G1 avg. clustering coefficient: 0.19586331976169608\n",
      "G2 avg. clustering coefficient: 0.02051234365673515\n",
      "G3 avg. clustering coefficient: 0.05907687527263333\n"
     ]
    },
    {
     "data": {
      "image/png": "[encoded data removed]",
      "text/plain": [
       "<Figure size 640x480 with 1 Axes>"
      ]
     },
     "metadata": {},
     "output_type": "display_data"
    }
   ],
   "source": [
    "g1_avg_clust = nx.average_clustering(G1)\n",
    "print(f'G1 avg. clustering coefficient: {g1_avg_clust}')\n",
    "\n",
    "g2_avg_clust = nx.average_clustering(G2)\n",
    "print(f'G2 avg. clustering coefficient: {g2_avg_clust}')\n",
    "\n",
    "g3_avg_clust = nx.average_clustering(G3)\n",
    "print(f'G3 avg. clustering coefficient: {g3_avg_clust}')\n",
    "\n",
    "degree_sequence = sorted([d for n, d in G1.degree()])  # degree sequence\n",
    "degreeCount = collections.Counter(degree_sequence)\n",
    "fig, ax = plt.subplots()\n",
    "plt.hist(degreeCount.values(), bins=[1,2,3,4,5,6,7,8,9,10,11,12,13,14,15,16,17,18,19,20,21,22,23,24,25,26],histtype='bar')\n",
    "plt.title(\"Degree Histogram\")\n",
    "plt.ylabel(\"Count\")\n",
    "plt.xlabel(\"Degree\")\n",
    "plt.show()"
   ]
  },
  {
   "cell_type": "markdown",
   "metadata": {},
   "source": [
    "**Q6. [2 marks] When we compare the clustering coefficients for each of the 3 graphs above, do they suggest any difference between the yeast interaction network and the other two networks ? Briefly explain your reasoning.**"
   ]
  },
  {
   "cell_type": "markdown",
   "metadata": {},
   "source": [
    "**Q6. answer.**  _Your answer goes here._ "
   ]
  },
  {
   "cell_type": "markdown",
   "metadata": {},
   "source": [
    "## Network motifs"
   ]
  },
  {
   "cell_type": "markdown",
   "metadata": {},
   "source": [
    "**Q7. [4 marks] Implement feedforward loop motif finding in the _E. coli_ genetic regulatory network.**"
   ]
  },
  {
   "cell_type": "markdown",
   "metadata": {},
   "source": [
    "A code scaffold is provided below, which you need to complete. Your implementation should follow the description of the structure of the feedforward loop (FFL) in the lecture \"Network Analysis (2)\" on slides 6 to 18.\n",
    "\n",
    "However, the graph data format for the network (which comes from a dataset on the _E. coli_ genetic regulatory network) is in a different format to that of the experiment described in the lecture slides. In this case:\n",
    "- the network is in an edgelist file\n",
    "- each row consists of a regulator (i.e., transcription factor) and the operon that it regulates (which could also be a regulator)\n",
    "- there is also a \"weight\" on the edge where 1 = positive regulation, 2 = negative regulation, and 3 is both\n",
    "- **note: the sign of the regulation can be ignored for the purposes of this exercise.**\n",
    "- the network file format represents a graph where nodes are indexes that map to names in a separate file (not included)\n",
    "\n",
    "So, for example, a row in the edgelist file like this:\n",
    "\n",
    "```64 406 1```\n",
    "\n",
    "denotes that transcription factor 64 positively regulates operon 406. Being _E. coli_, there are cases of (negative) auto-regulation, such as this:\n",
    "\n",
    "```342 342 2```\n",
    "\n",
    "which should _**not**_ be included as part of any valid FFL. \n",
    "\n",
    "To simplify the processing the edgelist format is converted to an _adjacency matrix_ format. You should be able to follow the logic of the FFL in the slides to find all instances (recall that this network is a _directed graph_). For example, these 3 rows in the edgelist file:\n",
    "\n",
    "```136 137 1```\n",
    "\n",
    "```136 132 1```\n",
    "\n",
    "```137 132 1```\n",
    "\n",
    "define the FFL:\n",
    "\n",
    "```Master: 136; Secondary: 137; Target: 132```\n",
    "\n",
    "Your code should find _**all**_ the valid feedforward loops in this network graph, count up the number of FFLs found, and for each FFL print out the 3 nodes according to the format of the template print statement in the scaffold. \n",
    "\n",
    "The code scaffold provides the basis for a straighforward implementation of the FFL definition, although many alternative implementations could probably be devised.\n",
    "\n",
    "**To complete your answer, please add your code where indicated in the cell below, while retaining the code scaffold as is, to ensure uniformity in marking !!!**"
   ]
  },
  {
   "cell_type": "markdown",
   "metadata": {},
   "source": [
    "**Q7. answer.**  _Your answer goes here._ "
   ]
  },
  {
   "cell_type": "code",
   "execution_count": 16,
   "metadata": {},
   "outputs": [
    {
     "name": "stdout",
     "output_type": "stream",
     "text": [
      "Graph G4 has 423 nodes and 578 edges\n",
      "Adjacency matrix A4 has shape: 423 rows and 423 columns\n",
      "Master: 23; Secondary: 17; Target: 16\n",
      "Master: 65; Secondary: 19; Target: 18\n",
      "Master: 65; Secondary: 19; Target: 20\n",
      "Master: 65; Secondary: 19; Target: 21\n",
      "Master: 65; Secondary: 19; Target: 22\n",
      "Master: 65; Secondary: 55; Target: 56\n",
      "Master: 65; Secondary: 55; Target: 128\n",
      "Master: 65; Secondary: 150; Target: 149\n",
      "Master: 65; Secondary: 153; Target: 59\n",
      "Master: 65; Secondary: 156; Target: 254\n",
      "Master: 65; Secondary: 232; Target: 237\n",
      "Master: 65; Secondary: 236; Target: 231\n",
      "Master: 65; Secondary: 236; Target: 233\n",
      "Master: 65; Secondary: 236; Target: 235\n",
      "Master: 65; Secondary: 245; Target: 244\n",
      "Master: 65; Secondary: 269; Target: 239\n",
      "Master: 65; Secondary: 269; Target: 270\n",
      "Master: 135; Secondary: 136; Target: 131\n",
      "Master: 135; Secondary: 136; Target: 134\n",
      "Master: 135; Secondary: 136; Target: 139\n",
      "Master: 135; Secondary: 136; Target: 140\n",
      "Master: 135; Secondary: 136; Target: 141\n",
      "Master: 142; Secondary: 23; Target: 72\n",
      "Master: 142; Secondary: 23; Target: 75\n",
      "Master: 142; Secondary: 23; Target: 143\n",
      "Master: 142; Secondary: 23; Target: 171\n",
      "Master: 142; Secondary: 23; Target: 201\n",
      "Master: 142; Secondary: 23; Target: 284\n",
      "Master: 142; Secondary: 23; Target: 350\n",
      "Master: 189; Secondary: 291; Target: 289\n",
      "Master: 189; Secondary: 291; Target: 290\n",
      "Master: 192; Secondary: 135; Target: 136\n",
      "Master: 250; Secondary: 251; Target: 246\n",
      "Master: 291; Secondary: 67; Target: 66\n",
      "Master: 338; Secondary: 240; Target: 152\n",
      "Master: 338; Secondary: 240; Target: 276\n",
      "Master: 338; Secondary: 240; Target: 356\n",
      "Master: 338; Secondary: 240; Target: 422\n",
      "Master: 345; Secondary: 126; Target: 119\n",
      "Master: 345; Secondary: 126; Target: 196\n",
      "Master: 345; Secondary: 168; Target: 170\n",
      "Master: 345; Secondary: 168; Target: 266\n",
      "FFL total: 42\n"
     ]
    }
   ],
   "source": [
    "G4 = nx.read_weighted_edgelist('graph4.edgelist', create_using=nx.DiGraph, nodetype=int)\n",
    "print(f'Graph G4 has {G4.number_of_nodes()} nodes and {G4.number_of_edges()} edges')\n",
    "\n",
    "# Convert edgelist format first to a directed graph, then to an adjacency matrix in NumPy\n",
    "D4 = nx.DiGraph(G4)\n",
    "G4Nodes = sorted(list(nx.nodes(D4)))\n",
    "A4 = nx.to_numpy_matrix(D4, nodelist=G4Nodes, order='C', weight='weight')\n",
    "(a_rows, a_cols) = A4.shape\n",
    "\n",
    "print(f'Adjacency matrix A4 has shape: {a_rows} rows and {a_cols} columns')\n",
    "\n",
    "# Find all FFLs\n",
    "n_ffl = 0\n",
    "for i in range(0, a_rows):\n",
    "    for j in range(0, a_cols):\n",
    "        \n",
    "        if i == j: continue\n",
    "        reg = A4[i,j]\n",
    "        if reg > 0:\n",
    "            # i > j            \n",
    "            # j > x \n",
    "            # i > x\n",
    "            for x in range(0, a_cols):\n",
    "                if j == x: continue\n",
    "                if A4[j, x] > 0 and A4[i, x] > 0:\n",
    "                    # found one \n",
    "                    print(f\"Master: {i}; Secondary: {j}; Target: {x}\")\n",
    "                    n_ffl +=1\n",
    "             \n",
    "print(f\"FFL total: {n_ffl}\")"
   ]
  },
  {
   "cell_type": "code",
   "execution_count": null,
   "metadata": {},
   "outputs": [],
   "source": []
  }
 ],
 "metadata": {
  "kernelspec": {
   "display_name": "Python 3.10.4 ('CASM1')",
   "language": "python",
   "name": "python3"
  },
  "language_info": {
   "codemirror_mode": {
    "name": "ipython",
    "version": 3
   },
   "file_extension": ".py",
   "mimetype": "text/x-python",
   "name": "python",
   "nbconvert_exporter": "python",
   "pygments_lexer": "ipython3",
   "version": "3.10.4"
  },
  "vscode": {
   "interpreter": {
    "hash": "dd6defff759c97677e5750685ded310343f78e719e59ba2f9d5c497b066141f0"
   }
  }
 },
 "nbformat": 4,
 "nbformat_minor": 2
}
